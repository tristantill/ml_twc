{
 "cells": [
  {
   "cell_type": "code",
   "execution_count": 1,
   "id": "b541f398",
   "metadata": {},
   "outputs": [],
   "source": [
    "from pyspark.ml.regression import LinearRegression, LinearRegressionModel\n",
    "from pyspark.ml.feature import VectorAssembler\n",
    "from pyspark.ml.evaluation import RegressionEvaluator\n",
    "from pyspark.context import SparkContext\n",
    "from pyspark.sql import SparkSession\n",
    "from datetime import datetime\n",
    "spark = SparkSession.builder.getOrCreate()\n",
    "sc = SparkContext.getOrCreate()\n",
    "#model_copy = LinearRegressionModel.load('./models/')"
   ]
  },
  {
   "cell_type": "code",
   "execution_count": 2,
   "id": "937e5078",
   "metadata": {},
   "outputs": [],
   "source": [
    "def detect(model, current, buzz, stol, last_30m, last_2h, last_4h):\n",
    "    data = [{\"year\": datetime.now().year, \"month\": datetime.now().month, \"day\": datetime.now().day, \"hour\": datetime.now().hour, \"minute\": datetime.now().minute, \"second\": datetime.now().second, \"fill\": current, \"buzz\": buzz , \"stol\": stol, \"fill_past_30m\": last_30m, \"fill_past_2h\": last_2h, \"fill_past_4h\": last_4h, \"fill_future_4h\":-1}]\n",
    "    spark_data = spark.createDataFrame(data)\n",
    "    feature_cols = ['year', 'month', 'day', 'hour', 'minute', 'second', 'fill', 'buzz', 'stol', 'fill_past_30m', 'fill_past_2h', 'fill_past_4h']\n",
    "    vect_assembler = VectorAssembler(inputCols = feature_cols, outputCol = \"features\")\n",
    "    data_w_features = vect_assembler.transform(spark_data)\n",
    "    data_for_training = data_w_features.select('features', 'fill_future_4h')\n",
    "    pred = model.evaluate(data_for_training)\n",
    "    filtered_preds = pred.predictions.drop(\"fill_future_4h\")\n",
    "    filtered_preds.show()"
   ]
  },
  {
   "cell_type": "code",
   "execution_count": 2,
   "id": "c4e8bdf9",
   "metadata": {},
   "outputs": [],
   "source": []
  },
  {
   "cell_type": "code",
   "execution_count": null,
   "id": "d5ecafbc",
   "metadata": {},
   "outputs": [],
   "source": []
  }
 ],
 "metadata": {
  "kernelspec": {
   "display_name": "Python 3",
   "language": "python",
   "name": "python3"
  },
  "language_info": {
   "codemirror_mode": {
    "name": "ipython",
    "version": 3
   },
   "file_extension": ".py",
   "mimetype": "text/x-python",
   "name": "python",
   "nbconvert_exporter": "python",
   "pygments_lexer": "ipython3",
   "version": "3.8.8"
  },
  "v_": [
   "dGlsbHRyaXMyMA==",
   "dGlsbHRyaXMyMA=="
  ]
 },
 "nbformat": 4,
 "nbformat_minor": 5
}
