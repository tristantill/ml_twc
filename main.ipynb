{
 "cells": [
  {
   "cell_type": "code",
   "execution_count": 1,
   "id": "6a370fd1",
   "metadata": {},
   "outputs": [
    {
     "name": "stdout",
     "output_type": "stream",
     "text": [
      "Collecting ipynb\n",
      "  Downloading ipynb-0.5.1-py3-none-any.whl (6.9 kB)\n",
      "Installing collected packages: ipynb\n",
      "Successfully installed ipynb-0.5.1\n"
     ]
    }
   ],
   "source": [
    "!pip install ipynb\n",
    "from ipynb.fs.full.detect import detect\n",
    "from ipynb.fs.full.train import train\n",
    "from pyspark.ml.regression import LinearRegression, LinearRegressionModel"
   ]
  },
  {
   "cell_type": "code",
   "execution_count": 2,
   "id": "5942b000",
   "metadata": {},
   "outputs": [],
   "source": [
    "model_copy = LinearRegressionModel.load('./models/')"
   ]
  },
  {
   "cell_type": "code",
   "execution_count": 15,
   "id": "6d612053",
   "metadata": {},
   "outputs": [
    {
     "name": "stdout",
     "output_type": "stream",
     "text": [
      "+--------------------+----------------+\n",
      "|            features|      prediction|\n",
      "+--------------------+----------------+\n",
      "|[2023.0,1.0,29.0,...|71.0038707764138|\n",
      "+--------------------+----------------+\n",
      "\n"
     ]
    }
   ],
   "source": [
    "detect(model_copy, 70, 0, 1, 70, 70, 50)"
   ]
  },
  {
   "cell_type": "code",
   "execution_count": 5,
   "id": "48b2e288",
   "metadata": {},
   "outputs": [
    {
     "name": "stdout",
     "output_type": "stream",
     "text": [
      "trained and written model in models folder!\n"
     ]
    }
   ],
   "source": [
    "train()"
   ]
  },
  {
   "cell_type": "code",
   "execution_count": 14,
   "id": "8e78b24f",
   "metadata": {},
   "outputs": [
    {
     "ename": "TypeError",
     "evalue": "detect() missing 7 required positional arguments: 'model', 'current', 'buzz', 'stol', 'last_30m', 'last_2h', and 'last_4h'",
     "output_type": "error",
     "traceback": [
      "\u001b[0;31m---------------------------------------------------------------------------\u001b[0m",
      "\u001b[0;31mTypeError\u001b[0m                                 Traceback (most recent call last)",
      "\u001b[0;32m<ipython-input-14-80330aeb6acc>\u001b[0m in \u001b[0;36m<module>\u001b[0;34m\u001b[0m\n\u001b[0;32m----> 1\u001b[0;31m \u001b[0mdetect\u001b[0m\u001b[0;34m(\u001b[0m\u001b[0;34m)\u001b[0m\u001b[0;34m\u001b[0m\u001b[0;34m\u001b[0m\u001b[0m\n\u001b[0m",
      "\u001b[0;31mTypeError\u001b[0m: detect() missing 7 required positional arguments: 'model', 'current', 'buzz', 'stol', 'last_30m', 'last_2h', and 'last_4h'"
     ]
    }
   ],
   "source": [
    "detect()"
   ]
  },
  {
   "cell_type": "code",
   "execution_count": null,
   "id": "2a8761d0",
   "metadata": {},
   "outputs": [],
   "source": []
  }
 ],
 "metadata": {
  "kernelspec": {
   "display_name": "Python 3",
   "language": "python",
   "name": "python3"
  },
  "language_info": {
   "codemirror_mode": {
    "name": "ipython",
    "version": 3
   },
   "file_extension": ".py",
   "mimetype": "text/x-python",
   "name": "python",
   "nbconvert_exporter": "python",
   "pygments_lexer": "ipython3",
   "version": "3.8.8"
  },
  "v_": [
   "dGlsbHRyaXMyMA==",
   "dGlsbHRyaXMyMA=="
  ]
 },
 "nbformat": 4,
 "nbformat_minor": 5
}
