{
 "cells": [
  {
   "cell_type": "code",
   "execution_count": 1,
   "id": "6a370fd1",
   "metadata": {},
   "outputs": [
    {
     "name": "stdout",
     "output_type": "stream",
     "text": [
      "Collecting ipynb\n",
      "  Downloading ipynb-0.5.1-py3-none-any.whl (6.9 kB)\n",
      "Installing collected packages: ipynb\n",
      "Successfully installed ipynb-0.5.1\n",
      "Note: you may need to restart the kernel to use updated packages.\n"
     ]
    },
    {
     "name": "stderr",
     "output_type": "stream",
     "text": [
      "\n",
      "[notice] A new release of pip available: 22.2.2 -> 22.3.1\n",
      "[notice] To update, run: C:\\Users\\trist\\AppData\\Local\\Microsoft\\WindowsApps\\PythonSoftwareFoundation.Python.3.10_qbz5n2kfra8p0\\python.exe -m pip install --upgrade pip\n"
     ]
    },
    {
     "ename": "ModuleNotFoundError",
     "evalue": "No module named 'pyspark'",
     "output_type": "error",
     "traceback": [
      "\u001b[1;31m---------------------------------------------------------------------------\u001b[0m",
      "\u001b[1;31mModuleNotFoundError\u001b[0m                       Traceback (most recent call last)",
      "\u001b[1;32mc:\\Users\\trist\\ima\\Sem5\\IOT\\twc_ml\\main.ipynb Cell 1\u001b[0m in \u001b[0;36m<cell line: 3>\u001b[1;34m()\u001b[0m\n\u001b[0;32m      <a href='vscode-notebook-cell:/c%3A/Users/trist/ima/Sem5/IOT/twc_ml/main.ipynb#W0sZmlsZQ%3D%3D?line=0'>1</a>\u001b[0m \u001b[39m#!pip install ipynb\u001b[39;00m\n\u001b[0;32m      <a href='vscode-notebook-cell:/c%3A/Users/trist/ima/Sem5/IOT/twc_ml/main.ipynb#W0sZmlsZQ%3D%3D?line=1'>2</a>\u001b[0m get_ipython()\u001b[39m.\u001b[39mrun_line_magic(\u001b[39m'\u001b[39m\u001b[39mpip\u001b[39m\u001b[39m'\u001b[39m, \u001b[39m'\u001b[39m\u001b[39minstall ipynb\u001b[39m\u001b[39m'\u001b[39m)\n\u001b[1;32m----> <a href='vscode-notebook-cell:/c%3A/Users/trist/ima/Sem5/IOT/twc_ml/main.ipynb#W0sZmlsZQ%3D%3D?line=2'>3</a>\u001b[0m \u001b[39mfrom\u001b[39;00m \u001b[39mipynb\u001b[39;00m\u001b[39m.\u001b[39;00m\u001b[39mfs\u001b[39;00m\u001b[39m.\u001b[39;00m\u001b[39mfull\u001b[39;00m\u001b[39m.\u001b[39;00m\u001b[39mdetect\u001b[39;00m \u001b[39mimport\u001b[39;00m detect\n\u001b[0;32m      <a href='vscode-notebook-cell:/c%3A/Users/trist/ima/Sem5/IOT/twc_ml/main.ipynb#W0sZmlsZQ%3D%3D?line=3'>4</a>\u001b[0m \u001b[39mfrom\u001b[39;00m \u001b[39mipynb\u001b[39;00m\u001b[39m.\u001b[39;00m\u001b[39mfs\u001b[39;00m\u001b[39m.\u001b[39;00m\u001b[39mfull\u001b[39;00m\u001b[39m.\u001b[39;00m\u001b[39mtrain\u001b[39;00m \u001b[39mimport\u001b[39;00m train\n\u001b[0;32m      <a href='vscode-notebook-cell:/c%3A/Users/trist/ima/Sem5/IOT/twc_ml/main.ipynb#W0sZmlsZQ%3D%3D?line=4'>5</a>\u001b[0m \u001b[39mfrom\u001b[39;00m \u001b[39mpyspark\u001b[39;00m\u001b[39m.\u001b[39;00m\u001b[39mml\u001b[39;00m\u001b[39m.\u001b[39;00m\u001b[39mregression\u001b[39;00m \u001b[39mimport\u001b[39;00m LinearRegression, LinearRegressionModel\n",
      "File \u001b[1;32mc:\\Users\\trist\\ima\\Sem5\\IOT\\twc_ml\\detect.ipynb:6\u001b[0m, in \u001b[0;36m<module>\u001b[1;34m\u001b[0m\n\u001b[0;32m      1\u001b[0m {\n\u001b[0;32m      2\u001b[0m  \u001b[39m\"\u001b[39m\u001b[39mcells\u001b[39m\u001b[39m\"\u001b[39m: [\n\u001b[0;32m      3\u001b[0m   {\n\u001b[0;32m      4\u001b[0m    \u001b[39m\"\u001b[39m\u001b[39mcell_type\u001b[39m\u001b[39m\"\u001b[39m: \u001b[39m\"\u001b[39m\u001b[39mcode\u001b[39m\u001b[39m\"\u001b[39m,\n\u001b[0;32m      5\u001b[0m    \u001b[39m\"\u001b[39m\u001b[39mexecution_count\u001b[39m\u001b[39m\"\u001b[39m: \u001b[39m1\u001b[39m,\n\u001b[1;32m----> 6\u001b[0m    \u001b[39m\"\u001b[39m\u001b[39mid\u001b[39m\u001b[39m\"\u001b[39m: \u001b[39m\"\u001b[39m\u001b[39mb541f398\u001b[39m\u001b[39m\"\u001b[39m,\n\u001b[0;32m      7\u001b[0m    \u001b[39m\"\u001b[39m\u001b[39mmetadata\u001b[39m\u001b[39m\"\u001b[39m: {},\n\u001b[0;32m      8\u001b[0m    \u001b[39m\"\u001b[39m\u001b[39moutputs\u001b[39m\u001b[39m\"\u001b[39m: [],\n\u001b[0;32m      9\u001b[0m    \u001b[39m\"\u001b[39m\u001b[39msource\u001b[39m\u001b[39m\"\u001b[39m: [\n\u001b[0;32m     10\u001b[0m     \u001b[39m\"\u001b[39m\u001b[39mfrom pyspark.ml.regression import LinearRegression, LinearRegressionModel\u001b[39m\u001b[39m\\n\u001b[39;00m\u001b[39m\"\u001b[39m,\n\u001b[0;32m     11\u001b[0m     \u001b[39m\"\u001b[39m\u001b[39mfrom pyspark.ml.feature import VectorAssembler\u001b[39m\u001b[39m\\n\u001b[39;00m\u001b[39m\"\u001b[39m,\n\u001b[0;32m     12\u001b[0m     \u001b[39m\"\u001b[39m\u001b[39mfrom pyspark.ml.evaluation import RegressionEvaluator\u001b[39m\u001b[39m\\n\u001b[39;00m\u001b[39m\"\u001b[39m,\n\u001b[0;32m     13\u001b[0m     \u001b[39m\"\u001b[39m\u001b[39mfrom pyspark.context import SparkContext\u001b[39m\u001b[39m\\n\u001b[39;00m\u001b[39m\"\u001b[39m,\n\u001b[0;32m     14\u001b[0m     \u001b[39m\"\u001b[39m\u001b[39mfrom pyspark.sql import SparkSession\u001b[39m\u001b[39m\\n\u001b[39;00m\u001b[39m\"\u001b[39m,\n\u001b[0;32m     15\u001b[0m     \u001b[39m\"\u001b[39m\u001b[39mfrom datetime import datetime\u001b[39m\u001b[39m\\n\u001b[39;00m\u001b[39m\"\u001b[39m,\n\u001b[0;32m     16\u001b[0m     \u001b[39m\"\u001b[39m\u001b[39mspark = SparkSession.builder.getOrCreate()\u001b[39m\u001b[39m\\n\u001b[39;00m\u001b[39m\"\u001b[39m,\n\u001b[0;32m     17\u001b[0m     \u001b[39m\"\u001b[39m\u001b[39msc = SparkContext.getOrCreate()\u001b[39m\u001b[39m\\n\u001b[39;00m\u001b[39m\"\u001b[39m,\n\u001b[0;32m     18\u001b[0m     \u001b[39m\"\u001b[39m\u001b[39m#model_copy = LinearRegressionModel.load(\u001b[39m\u001b[39m'\u001b[39m\u001b[39m./models/\u001b[39m\u001b[39m'\u001b[39m\u001b[39m)\u001b[39m\u001b[39m\"\u001b[39m\n\u001b[0;32m     19\u001b[0m    ]\n\u001b[0;32m     20\u001b[0m   },\n\u001b[0;32m     21\u001b[0m   {\n\u001b[0;32m     22\u001b[0m    \u001b[39m\"\u001b[39m\u001b[39mcell_type\u001b[39m\u001b[39m\"\u001b[39m: \u001b[39m\"\u001b[39m\u001b[39mcode\u001b[39m\u001b[39m\"\u001b[39m,\n\u001b[0;32m     23\u001b[0m    \u001b[39m\"\u001b[39m\u001b[39mexecution_count\u001b[39m\u001b[39m\"\u001b[39m: \u001b[39m2\u001b[39m,\n\u001b[0;32m     24\u001b[0m    \u001b[39m\"\u001b[39m\u001b[39mid\u001b[39m\u001b[39m\"\u001b[39m: \u001b[39m\"\u001b[39m\u001b[39m937e5078\u001b[39m\u001b[39m\"\u001b[39m,\n\u001b[0;32m     25\u001b[0m    \u001b[39m\"\u001b[39m\u001b[39mmetadata\u001b[39m\u001b[39m\"\u001b[39m: {},\n\u001b[0;32m     26\u001b[0m    \u001b[39m\"\u001b[39m\u001b[39moutputs\u001b[39m\u001b[39m\"\u001b[39m: [],\n\u001b[0;32m     27\u001b[0m    \u001b[39m\"\u001b[39m\u001b[39msource\u001b[39m\u001b[39m\"\u001b[39m: [\n\u001b[0;32m     28\u001b[0m     \u001b[39m\"\u001b[39m\u001b[39mdef detect(model, current, buzz, stol, last_30m, last_2h, last_4h):\u001b[39m\u001b[39m\\n\u001b[39;00m\u001b[39m\"\u001b[39m,\n\u001b[0;32m     29\u001b[0m     \u001b[39m\"\u001b[39m\u001b[39m    data = [\u001b[39m\u001b[39m{\u001b[39m\u001b[39m\\\"\u001b[39;00m\u001b[39myear\u001b[39m\u001b[39m\\\"\u001b[39;00m\u001b[39m: datetime.now().year, \u001b[39m\u001b[39m\\\"\u001b[39;00m\u001b[39mmonth\u001b[39m\u001b[39m\\\"\u001b[39;00m\u001b[39m: datetime.now().month, \u001b[39m\u001b[39m\\\"\u001b[39;00m\u001b[39mday\u001b[39m\u001b[39m\\\"\u001b[39;00m\u001b[39m: datetime.now().day, \u001b[39m\u001b[39m\\\"\u001b[39;00m\u001b[39mhour\u001b[39m\u001b[39m\\\"\u001b[39;00m\u001b[39m: datetime.now().hour, \u001b[39m\u001b[39m\\\"\u001b[39;00m\u001b[39mminute\u001b[39m\u001b[39m\\\"\u001b[39;00m\u001b[39m: datetime.now().minute, \u001b[39m\u001b[39m\\\"\u001b[39;00m\u001b[39msecond\u001b[39m\u001b[39m\\\"\u001b[39;00m\u001b[39m: datetime.now().second, \u001b[39m\u001b[39m\\\"\u001b[39;00m\u001b[39mfill\u001b[39m\u001b[39m\\\"\u001b[39;00m\u001b[39m: current, \u001b[39m\u001b[39m\\\"\u001b[39;00m\u001b[39mbuzz\u001b[39m\u001b[39m\\\"\u001b[39;00m\u001b[39m: buzz , \u001b[39m\u001b[39m\\\"\u001b[39;00m\u001b[39mstol\u001b[39m\u001b[39m\\\"\u001b[39;00m\u001b[39m: stol, \u001b[39m\u001b[39m\\\"\u001b[39;00m\u001b[39mfill_past_30m\u001b[39m\u001b[39m\\\"\u001b[39;00m\u001b[39m: last_30m, \u001b[39m\u001b[39m\\\"\u001b[39;00m\u001b[39mfill_past_2h\u001b[39m\u001b[39m\\\"\u001b[39;00m\u001b[39m: last_2h, \u001b[39m\u001b[39m\\\"\u001b[39;00m\u001b[39mfill_past_4h\u001b[39m\u001b[39m\\\"\u001b[39;00m\u001b[39m: last_4h, \u001b[39m\u001b[39m\\\"\u001b[39;00m\u001b[39mfill_future_4h\u001b[39m\u001b[39m\\\"\u001b[39;00m\u001b[39m:-1}]\u001b[39m\u001b[39m\\n\u001b[39;00m\u001b[39m\"\u001b[39m,\n\u001b[0;32m     30\u001b[0m     \u001b[39m\"\u001b[39m\u001b[39m    spark_data = spark.createDataFrame(data)\u001b[39m\u001b[39m\\n\u001b[39;00m\u001b[39m\"\u001b[39m,\n\u001b[0;32m     31\u001b[0m     \u001b[39m\"\u001b[39m\u001b[39m    feature_cols = [\u001b[39m\u001b[39m'\u001b[39m\u001b[39myear\u001b[39m\u001b[39m'\u001b[39m\u001b[39m, \u001b[39m\u001b[39m'\u001b[39m\u001b[39mmonth\u001b[39m\u001b[39m'\u001b[39m\u001b[39m, \u001b[39m\u001b[39m'\u001b[39m\u001b[39mday\u001b[39m\u001b[39m'\u001b[39m\u001b[39m, \u001b[39m\u001b[39m'\u001b[39m\u001b[39mhour\u001b[39m\u001b[39m'\u001b[39m\u001b[39m, \u001b[39m\u001b[39m'\u001b[39m\u001b[39mminute\u001b[39m\u001b[39m'\u001b[39m\u001b[39m, \u001b[39m\u001b[39m'\u001b[39m\u001b[39msecond\u001b[39m\u001b[39m'\u001b[39m\u001b[39m, \u001b[39m\u001b[39m'\u001b[39m\u001b[39mfill\u001b[39m\u001b[39m'\u001b[39m\u001b[39m, \u001b[39m\u001b[39m'\u001b[39m\u001b[39mbuzz\u001b[39m\u001b[39m'\u001b[39m\u001b[39m, \u001b[39m\u001b[39m'\u001b[39m\u001b[39mstol\u001b[39m\u001b[39m'\u001b[39m\u001b[39m, \u001b[39m\u001b[39m'\u001b[39m\u001b[39mfill_past_30m\u001b[39m\u001b[39m'\u001b[39m\u001b[39m, \u001b[39m\u001b[39m'\u001b[39m\u001b[39mfill_past_2h\u001b[39m\u001b[39m'\u001b[39m\u001b[39m, \u001b[39m\u001b[39m'\u001b[39m\u001b[39mfill_past_4h\u001b[39m\u001b[39m'\u001b[39m\u001b[39m]\u001b[39m\u001b[39m\\n\u001b[39;00m\u001b[39m\"\u001b[39m,\n\u001b[0;32m     32\u001b[0m     \u001b[39m\"\u001b[39m\u001b[39m    vect_assembler = VectorAssembler(inputCols = feature_cols, outputCol = \u001b[39m\u001b[39m\\\"\u001b[39;00m\u001b[39mfeatures\u001b[39m\u001b[39m\\\"\u001b[39;00m\u001b[39m)\u001b[39m\u001b[39m\\n\u001b[39;00m\u001b[39m\"\u001b[39m,\n\u001b[0;32m     33\u001b[0m     \u001b[39m\"\u001b[39m\u001b[39m    data_w_features = vect_assembler.transform(spark_data)\u001b[39m\u001b[39m\\n\u001b[39;00m\u001b[39m\"\u001b[39m,\n\u001b[0;32m     34\u001b[0m     \u001b[39m\"\u001b[39m\u001b[39m    data_for_training = data_w_features.select(\u001b[39m\u001b[39m'\u001b[39m\u001b[39mfeatures\u001b[39m\u001b[39m'\u001b[39m\u001b[39m, \u001b[39m\u001b[39m'\u001b[39m\u001b[39mfill_future_4h\u001b[39m\u001b[39m'\u001b[39m\u001b[39m)\u001b[39m\u001b[39m\\n\u001b[39;00m\u001b[39m\"\u001b[39m,\n\u001b[0;32m     35\u001b[0m     \u001b[39m\"\u001b[39m\u001b[39m    pred = model.evaluate(data_for_training)\u001b[39m\u001b[39m\\n\u001b[39;00m\u001b[39m\"\u001b[39m,\n\u001b[0;32m     36\u001b[0m     \u001b[39m\"\u001b[39m\u001b[39m    filtered_preds = pred.predictions.drop(\u001b[39m\u001b[39m\\\"\u001b[39;00m\u001b[39mfill_future_4h\u001b[39m\u001b[39m\\\"\u001b[39;00m\u001b[39m)\u001b[39m\u001b[39m\\n\u001b[39;00m\u001b[39m\"\u001b[39m,\n\u001b[0;32m     37\u001b[0m     \u001b[39m\"\u001b[39m\u001b[39m    filtered_preds.show()\u001b[39m\u001b[39m\"\u001b[39m\n\u001b[0;32m     38\u001b[0m    ]\n\u001b[0;32m     39\u001b[0m   },\n\u001b[0;32m     40\u001b[0m   {\n\u001b[0;32m     41\u001b[0m    \u001b[39m\"\u001b[39m\u001b[39mcell_type\u001b[39m\u001b[39m\"\u001b[39m: \u001b[39m\"\u001b[39m\u001b[39mcode\u001b[39m\u001b[39m\"\u001b[39m,\n\u001b[0;32m     42\u001b[0m    \u001b[39m\"\u001b[39m\u001b[39mexecution_count\u001b[39m\u001b[39m\"\u001b[39m: \u001b[39m2\u001b[39m,\n\u001b[0;32m     43\u001b[0m    \u001b[39m\"\u001b[39m\u001b[39mid\u001b[39m\u001b[39m\"\u001b[39m: \u001b[39m\"\u001b[39m\u001b[39mc4e8bdf9\u001b[39m\u001b[39m\"\u001b[39m,\n\u001b[0;32m     44\u001b[0m    \u001b[39m\"\u001b[39m\u001b[39mmetadata\u001b[39m\u001b[39m\"\u001b[39m: {},\n\u001b[0;32m     45\u001b[0m    \u001b[39m\"\u001b[39m\u001b[39moutputs\u001b[39m\u001b[39m\"\u001b[39m: [],\n\u001b[0;32m     46\u001b[0m    \u001b[39m\"\u001b[39m\u001b[39msource\u001b[39m\u001b[39m\"\u001b[39m: []\n\u001b[0;32m     47\u001b[0m   },\n\u001b[0;32m     48\u001b[0m   {\n\u001b[0;32m     49\u001b[0m    \u001b[39m\"\u001b[39m\u001b[39mcell_type\u001b[39m\u001b[39m\"\u001b[39m: \u001b[39m\"\u001b[39m\u001b[39mcode\u001b[39m\u001b[39m\"\u001b[39m,\n\u001b[0;32m     50\u001b[0m    \u001b[39m\"\u001b[39m\u001b[39mexecution_count\u001b[39m\u001b[39m\"\u001b[39m: null,\n\u001b[0;32m     51\u001b[0m    \u001b[39m\"\u001b[39m\u001b[39mid\u001b[39m\u001b[39m\"\u001b[39m: \u001b[39m\"\u001b[39m\u001b[39md5ecafbc\u001b[39m\u001b[39m\"\u001b[39m,\n\u001b[0;32m     52\u001b[0m    \u001b[39m\"\u001b[39m\u001b[39mmetadata\u001b[39m\u001b[39m\"\u001b[39m: {},\n\u001b[0;32m     53\u001b[0m    \u001b[39m\"\u001b[39m\u001b[39moutputs\u001b[39m\u001b[39m\"\u001b[39m: [],\n\u001b[0;32m     54\u001b[0m    \u001b[39m\"\u001b[39m\u001b[39msource\u001b[39m\u001b[39m\"\u001b[39m: []\n\u001b[0;32m     55\u001b[0m   }\n\u001b[0;32m     56\u001b[0m  ],\n\u001b[0;32m     57\u001b[0m  \u001b[39m\"\u001b[39m\u001b[39mmetadata\u001b[39m\u001b[39m\"\u001b[39m: {\n\u001b[0;32m     58\u001b[0m   \u001b[39m\"\u001b[39m\u001b[39mkernelspec\u001b[39m\u001b[39m\"\u001b[39m: {\n\u001b[0;32m     59\u001b[0m    \u001b[39m\"\u001b[39m\u001b[39mdisplay_name\u001b[39m\u001b[39m\"\u001b[39m: \u001b[39m\"\u001b[39m\u001b[39mPython 3\u001b[39m\u001b[39m\"\u001b[39m,\n\u001b[0;32m     60\u001b[0m    \u001b[39m\"\u001b[39m\u001b[39mlanguage\u001b[39m\u001b[39m\"\u001b[39m: \u001b[39m\"\u001b[39m\u001b[39mpython\u001b[39m\u001b[39m\"\u001b[39m,\n\u001b[0;32m     61\u001b[0m    \u001b[39m\"\u001b[39m\u001b[39mname\u001b[39m\u001b[39m\"\u001b[39m: \u001b[39m\"\u001b[39m\u001b[39mpython3\u001b[39m\u001b[39m\"\u001b[39m\n\u001b[0;32m     62\u001b[0m   },\n\u001b[0;32m     63\u001b[0m   \u001b[39m\"\u001b[39m\u001b[39mlanguage_info\u001b[39m\u001b[39m\"\u001b[39m: {\n\u001b[0;32m     64\u001b[0m    \u001b[39m\"\u001b[39m\u001b[39mcodemirror_mode\u001b[39m\u001b[39m\"\u001b[39m: {\n\u001b[0;32m     65\u001b[0m     \u001b[39m\"\u001b[39m\u001b[39mname\u001b[39m\u001b[39m\"\u001b[39m: \u001b[39m\"\u001b[39m\u001b[39mipython\u001b[39m\u001b[39m\"\u001b[39m,\n\u001b[0;32m     66\u001b[0m     \u001b[39m\"\u001b[39m\u001b[39mversion\u001b[39m\u001b[39m\"\u001b[39m: \u001b[39m3\u001b[39m\n\u001b[0;32m     67\u001b[0m    },\n\u001b[0;32m     68\u001b[0m    \u001b[39m\"\u001b[39m\u001b[39mfile_extension\u001b[39m\u001b[39m\"\u001b[39m: \u001b[39m\"\u001b[39m\u001b[39m.py\u001b[39m\u001b[39m\"\u001b[39m,\n\u001b[0;32m     69\u001b[0m    \u001b[39m\"\u001b[39m\u001b[39mmimetype\u001b[39m\u001b[39m\"\u001b[39m: \u001b[39m\"\u001b[39m\u001b[39mtext/x-python\u001b[39m\u001b[39m\"\u001b[39m,\n\u001b[0;32m     70\u001b[0m    \u001b[39m\"\u001b[39m\u001b[39mname\u001b[39m\u001b[39m\"\u001b[39m: \u001b[39m\"\u001b[39m\u001b[39mpython\u001b[39m\u001b[39m\"\u001b[39m,\n\u001b[0;32m     71\u001b[0m    \u001b[39m\"\u001b[39m\u001b[39mnbconvert_exporter\u001b[39m\u001b[39m\"\u001b[39m: \u001b[39m\"\u001b[39m\u001b[39mpython\u001b[39m\u001b[39m\"\u001b[39m,\n\u001b[0;32m     72\u001b[0m    \u001b[39m\"\u001b[39m\u001b[39mpygments_lexer\u001b[39m\u001b[39m\"\u001b[39m: \u001b[39m\"\u001b[39m\u001b[39mipython3\u001b[39m\u001b[39m\"\u001b[39m,\n\u001b[0;32m     73\u001b[0m    \u001b[39m\"\u001b[39m\u001b[39mversion\u001b[39m\u001b[39m\"\u001b[39m: \u001b[39m\"\u001b[39m\u001b[39m3.8.8\u001b[39m\u001b[39m\"\u001b[39m\n\u001b[0;32m     74\u001b[0m   },\n\u001b[0;32m     75\u001b[0m   \u001b[39m\"\u001b[39m\u001b[39mv_\u001b[39m\u001b[39m\"\u001b[39m: [\n\u001b[0;32m     76\u001b[0m    \u001b[39m\"\u001b[39m\u001b[39mdGlsbHRyaXMyMA==\u001b[39m\u001b[39m\"\u001b[39m,\n\u001b[0;32m     77\u001b[0m    \u001b[39m\"\u001b[39m\u001b[39mdGlsbHRyaXMyMA==\u001b[39m\u001b[39m\"\u001b[39m\n\u001b[0;32m     78\u001b[0m   ]\n\u001b[0;32m     79\u001b[0m  },\n\u001b[0;32m     80\u001b[0m  \u001b[39m\"\u001b[39m\u001b[39mnbformat\u001b[39m\u001b[39m\"\u001b[39m: \u001b[39m4\u001b[39m,\n\u001b[0;32m     81\u001b[0m  \u001b[39m\"\u001b[39m\u001b[39mnbformat_minor\u001b[39m\u001b[39m\"\u001b[39m: \u001b[39m5\u001b[39m\n\u001b[0;32m     82\u001b[0m }\n",
      "\u001b[1;31mModuleNotFoundError\u001b[0m: No module named 'pyspark'"
     ]
    }
   ],
   "source": [
    "!pip install ipynb\n",
    "#%pip install ipynb\n",
    "from ipynb.fs.full.detect import detect\n",
    "from ipynb.fs.full.train import train\n",
    "from pyspark.ml.regression import LinearRegression, LinearRegressionModel"
   ]
  },
  {
   "cell_type": "code",
   "execution_count": 2,
   "id": "5942b000",
   "metadata": {},
   "outputs": [],
   "source": [
    "model_copy = LinearRegressionModel.load('./models/')"
   ]
  },
  {
   "cell_type": "code",
   "execution_count": 15,
   "id": "6d612053",
   "metadata": {},
   "outputs": [
    {
     "name": "stdout",
     "output_type": "stream",
     "text": [
      "+--------------------+----------------+\n",
      "|            features|      prediction|\n",
      "+--------------------+----------------+\n",
      "|[2023.0,1.0,29.0,...|71.0038707764138|\n",
      "+--------------------+----------------+\n",
      "\n"
     ]
    }
   ],
   "source": [
    "detect(model_copy, 70, 0, 1, 70, 70, 50)"
   ]
  },
  {
   "cell_type": "code",
   "execution_count": 5,
   "id": "48b2e288",
   "metadata": {},
   "outputs": [
    {
     "name": "stdout",
     "output_type": "stream",
     "text": [
      "trained and written model in models folder!\n"
     ]
    }
   ],
   "source": [
    "train('2023-01-27_17_10_influxdb_data.csv')"
   ]
  },
  {
   "cell_type": "code",
   "execution_count": 14,
   "id": "8e78b24f",
   "metadata": {},
   "outputs": [
    {
     "ename": "TypeError",
     "evalue": "detect() missing 7 required positional arguments: 'model', 'current', 'buzz', 'stol', 'last_30m', 'last_2h', and 'last_4h'",
     "output_type": "error",
     "traceback": [
      "\u001b[0;31m---------------------------------------------------------------------------\u001b[0m",
      "\u001b[0;31mTypeError\u001b[0m                                 Traceback (most recent call last)",
      "\u001b[0;32m<ipython-input-14-80330aeb6acc>\u001b[0m in \u001b[0;36m<module>\u001b[0;34m\u001b[0m\n\u001b[0;32m----> 1\u001b[0;31m \u001b[0mdetect\u001b[0m\u001b[0;34m(\u001b[0m\u001b[0;34m)\u001b[0m\u001b[0;34m\u001b[0m\u001b[0;34m\u001b[0m\u001b[0m\n\u001b[0m",
      "\u001b[0;31mTypeError\u001b[0m: detect() missing 7 required positional arguments: 'model', 'current', 'buzz', 'stol', 'last_30m', 'last_2h', and 'last_4h'"
     ]
    }
   ],
   "source": []
  },
  {
   "cell_type": "code",
   "execution_count": null,
   "id": "2a8761d0",
   "metadata": {},
   "outputs": [],
   "source": []
  }
 ],
 "metadata": {
  "kernelspec": {
   "display_name": "Python 3",
   "language": "python",
   "name": "python3"
  },
  "language_info": {
   "codemirror_mode": {
    "name": "ipython",
    "version": 3
   },
   "file_extension": ".py",
   "mimetype": "text/x-python",
   "name": "python",
   "nbconvert_exporter": "python",
   "pygments_lexer": "ipython3",
   "version": "3.10.9"
  },
  "v_": [
   "dGlsbHRyaXMyMA==",
   "dGlsbHRyaXMyMA=="
  ],
  "vscode": {
   "interpreter": {
    "hash": "b8c929f1c7b5a7b7d05dbe3bcbfebf7850db0ed0607b815f99d0534cfe000cb7"
   }
  }
 },
 "nbformat": 4,
 "nbformat_minor": 5
}
